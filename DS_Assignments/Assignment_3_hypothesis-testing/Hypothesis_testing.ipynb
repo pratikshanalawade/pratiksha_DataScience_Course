{
 "cells": [
  {
   "cell_type": "code",
   "execution_count": 3,
   "id": "e38ec671-0946-4faa-b377-96affde0be60",
   "metadata": {},
   "outputs": [],
   "source": [
    "import numpy as np\n",
    "from scipy.stats import norm"
   ]
  },
  {
   "cell_type": "code",
   "execution_count": 5,
   "id": "b0a002c9-d429-43c0-be7d-f2a013abda44",
   "metadata": {},
   "outputs": [],
   "source": [
    "## Given Data\n",
    "sample_mean=3035 # Sample mean weekly cost\n",
    "theoretical_mean=1000 + 5 * 600  #Theoretical mean weekly cost\n",
    "standard_deviation = 5 * 25  # Standard deviation\n",
    "sample_size = 25  # Sample size\n",
    "alpha = 0.05  # Significance level"
   ]
  },
  {
   "cell_type": "markdown",
   "id": "c1f90dae-a096-4229-babf-251aa7a96e0d",
   "metadata": {},
   "source": [
    "### State the hypothesis statment"
   ]
  },
  {
   "cell_type": "code",
   "execution_count": 6,
   "id": "32668177-123d-40cb-8b6f-b51d98f1eef5",
   "metadata": {},
   "outputs": [],
   "source": [
    "# Null Hypothesis (H0): The mean weekly operating cost is equal to the theoretical mean.\n",
    "# Alternative Hypothesis (H1): The mean weekly operating cost is higher than the theoretical mean."
   ]
  },
  {
   "cell_type": "code",
   "execution_count": 11,
   "id": "5c48ead1-7833-4ce7-865f-9d946dbf3571",
   "metadata": {},
   "outputs": [
    {
     "name": "stdout",
     "output_type": "stream",
     "text": [
      "25.0\n"
     ]
    }
   ],
   "source": [
    "# 2. Calculate the Test Statistic:\n",
    "# Calculate the standard error\n",
    "standard_error = standard_deviation / np.sqrt(sample_size)              \n",
    "print(standard_error)"
   ]
  },
  {
   "cell_type": "code",
   "execution_count": 12,
   "id": "8cd62d76-bde3-4690-a146-bb7cced94f20",
   "metadata": {},
   "outputs": [
    {
     "data": {
      "text/plain": [
       "-38.6"
      ]
     },
     "execution_count": 12,
     "metadata": {},
     "output_type": "execute_result"
    }
   ],
   "source": [
    "# Calculate the test statistic (t-score)\n",
    "t_score = (sample_mean - theoretical_mean) / standard_error\n",
    "t_score"
   ]
  },
  {
   "cell_type": "code",
   "execution_count": 13,
   "id": "54ee16da-f086-48c1-8cfa-9b9bdef1be54",
   "metadata": {},
   "outputs": [
    {
     "data": {
      "text/plain": [
       "24"
      ]
     },
     "execution_count": 13,
     "metadata": {},
     "output_type": "execute_result"
    }
   ],
   "source": [
    "# 3. Determine the Critical Value:\n",
    "# Degrees of freedom\n",
    "degrees_of_freedom = sample_size - 1\n",
    "degrees_of_freedom"
   ]
  },
  {
   "cell_type": "code",
   "execution_count": 14,
   "id": "c5b1f202-0440-4500-9cfb-4e0462bde561",
   "metadata": {},
   "outputs": [
    {
     "data": {
      "text/plain": [
       "1.6448536269514722"
      ]
     },
     "execution_count": 14,
     "metadata": {},
     "output_type": "execute_result"
    }
   ],
   "source": [
    "# Critical value for one-tailed test\n",
    "critical_value = norm.ppf(1 - alpha, loc=0, scale=1)\n",
    "critical_value"
   ]
  },
  {
   "cell_type": "code",
   "execution_count": 17,
   "id": "95119353-d68f-47a8-993d-30fc70e09cbf",
   "metadata": {},
   "outputs": [
    {
     "data": {
      "text/plain": [
       "False"
      ]
     },
     "execution_count": 17,
     "metadata": {},
     "output_type": "execute_result"
    }
   ],
   "source": [
    "# 4. Make a Decision:\n",
    "# If the test statistic is greater than the critical value, reject the null hypothesis\n",
    "reject_null = t_score > critical_value\n",
    "reject_null"
   ]
  },
  {
   "cell_type": "code",
   "execution_count": 18,
   "id": "8ccd49c4-1ac6-4275-9eb8-691ede231287",
   "metadata": {},
   "outputs": [],
   "source": [
    "# 5. Conclusion:\n"
   ]
  },
  {
   "cell_type": "code",
   "execution_count": 19,
   "id": "b816d952-92be-42e6-9b05-62a721d4a963",
   "metadata": {},
   "outputs": [
    {
     "name": "stdout",
     "output_type": "stream",
     "text": [
      "Fail to reject the null hypothesis.\n",
      "There is not enough evidence to support the claim that the weekly operating costs are higher than the model suggests.\n"
     ]
    }
   ],
   "source": [
    "if reject_null:\n",
    "    print(\"Reject the null hypothesis.\")\n",
    "    print(\"There is strong evidence to support the claim that the weekly operating costs are higher than the model suggests.\")\n",
    "else:\n",
    "    print(\"Fail to reject the null hypothesis.\")\n",
    "    print(\"There is not enough evidence to support the claim that the weekly operating costs are higher than the model suggests.\")"
   ]
  },
  {
   "cell_type": "code",
   "execution_count": null,
   "id": "1417f821-2e03-44bb-a1d9-32e53e63b76e",
   "metadata": {},
   "outputs": [],
   "source": []
  }
 ],
 "metadata": {
  "kernelspec": {
   "display_name": "Python 3 (ipykernel)",
   "language": "python",
   "name": "python3"
  },
  "language_info": {
   "codemirror_mode": {
    "name": "ipython",
    "version": 3
   },
   "file_extension": ".py",
   "mimetype": "text/x-python",
   "name": "python",
   "nbconvert_exporter": "python",
   "pygments_lexer": "ipython3",
   "version": "3.11.7"
  }
 },
 "nbformat": 4,
 "nbformat_minor": 5
}
