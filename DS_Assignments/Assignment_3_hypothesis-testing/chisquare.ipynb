{
 "cells": [
  {
   "cell_type": "code",
   "execution_count": 1,
   "id": "fcd79c75-f21c-4b65-8569-ce9e5bdcc6cd",
   "metadata": {},
   "outputs": [],
   "source": [
    "import numpy as np\n",
    "from scipy.stats import chi2_contingency"
   ]
  },
  {
   "cell_type": "code",
   "execution_count": 2,
   "id": "ad513a7f-3729-4a87-8960-57313e4b2ea4",
   "metadata": {},
   "outputs": [],
   "source": [
    "# Given data\n",
    "observed_counts = np.array([[50, 70], [80, 100],[60, 90], [30, 50], [20, 50]])"
   ]
  },
  {
   "cell_type": "markdown",
   "id": "6e4c6ce9-2d70-4b04-9a13-d905e57b1d28",
   "metadata": {},
   "source": [
    "### Statement of  hypothesis\n"
   ]
  },
  {
   "cell_type": "code",
   "execution_count": 3,
   "id": "5cbb209e-b005-478a-84da-6c82dcaab8c0",
   "metadata": {},
   "outputs": [],
   "source": [
    "# Null Hypothesis (H0): There is no significant association between the type of device purchased and customer satisfaction level.\n",
    "# Alternative Hypothesis (H1): There is a significant association between the type of device purchased and customer satisfaction level.\n"
   ]
  },
  {
   "cell_type": "code",
   "execution_count": 4,
   "id": "7f241792-220d-4689-a7a6-e17a6c7e3b30",
   "metadata": {},
   "outputs": [],
   "source": [
    "# 2. Compute the Chi-Square Statistic:"
   ]
  },
  {
   "cell_type": "code",
   "execution_count": 5,
   "id": "e56778c9-96cb-4b73-aa57-16c3fa6d9fbe",
   "metadata": {},
   "outputs": [
    {
     "name": "stdout",
     "output_type": "stream",
     "text": [
      "Chi-Square Statistic: 5.638227513227513\n"
     ]
    }
   ],
   "source": [
    "chi2, p, dof, expected = chi2_contingency(observed_counts)\n",
    "print(\"Chi-Square Statistic:\", chi2)"
   ]
  },
  {
   "cell_type": "code",
   "execution_count": 9,
   "id": "41bca518-2800-4e3a-b321-25a6be3eae69",
   "metadata": {},
   "outputs": [
    {
     "name": "stdout",
     "output_type": "stream",
     "text": [
      "Critical Value: 0.22784371130697179\n"
     ]
    }
   ],
   "source": [
    "# 3. Determine the Critical Value:\n",
    "alpha = 0.05\n",
    "alpha = 0.05\n",
    "critical_value = chi2_contingency(observed_counts)[1]\n",
    "print(\"Critical Value:\", critical_value)"
   ]
  },
  {
   "cell_type": "code",
   "execution_count": 10,
   "id": "42db283b-b255-4e4d-9821-00c66453eb78",
   "metadata": {},
   "outputs": [
    {
     "name": "stdout",
     "output_type": "stream",
     "text": [
      "Reject the null hypothesis.\n",
      "There is a significant association between the type of device purchased and customer satisfaction level.\n"
     ]
    }
   ],
   "source": [
    "# 4. Make a Decision:\n",
    "if chi2 > critical_value:\n",
    "    print(\"Reject the null hypothesis.\")\n",
    "    print(\"There is a significant association between the type of device purchased and customer satisfaction level.\")\n",
    "else:\n",
    "    print(\"Fail to reject the null hypothesis.\")\n",
    "    print(\"There is no significant association between the type of device purchased and customer satisfaction level.\")"
   ]
  },
  {
   "cell_type": "code",
   "execution_count": null,
   "id": "a8e7b6a6-6234-426e-9b6f-ad8a5c2c7a64",
   "metadata": {},
   "outputs": [],
   "source": []
  }
 ],
 "metadata": {
  "kernelspec": {
   "display_name": "Python 3 (ipykernel)",
   "language": "python",
   "name": "python3"
  },
  "language_info": {
   "codemirror_mode": {
    "name": "ipython",
    "version": 3
   },
   "file_extension": ".py",
   "mimetype": "text/x-python",
   "name": "python",
   "nbconvert_exporter": "python",
   "pygments_lexer": "ipython3",
   "version": "3.11.7"
  }
 },
 "nbformat": 4,
 "nbformat_minor": 5
}
